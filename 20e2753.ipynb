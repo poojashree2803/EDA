{
 "cells": [
  {
   "cell_type": "code",
   "execution_count": 3,
   "metadata": {},
   "outputs": [],
   "source": [
    "import pandas as pd\n",
    "import numpy as np\n",
    "import matplotlib.pyplot as plt\n",
    "import seaborn as sns\n",
    "%matplotlib inline"
   ]
  },
  {
   "cell_type": "code",
   "execution_count": 2,
   "metadata": {},
   "outputs": [
    {
     "data": {
      "text/html": [
       "<div>\n",
       "<style scoped>\n",
       "    .dataframe tbody tr th:only-of-type {\n",
       "        vertical-align: middle;\n",
       "    }\n",
       "\n",
       "    .dataframe tbody tr th {\n",
       "        vertical-align: top;\n",
       "    }\n",
       "\n",
       "    .dataframe thead th {\n",
       "        text-align: right;\n",
       "    }\n",
       "</style>\n",
       "<table border=\"1\" class=\"dataframe\">\n",
       "  <thead>\n",
       "    <tr style=\"text-align: right;\">\n",
       "      <th></th>\n",
       "      <th>Area</th>\n",
       "      <th>Item</th>\n",
       "      <th>Element</th>\n",
       "      <th>Year</th>\n",
       "      <th>Unit</th>\n",
       "      <th>Value</th>\n",
       "    </tr>\n",
       "  </thead>\n",
       "  <tbody>\n",
       "    <tr>\n",
       "      <th>0</th>\n",
       "      <td>Afghanistan</td>\n",
       "      <td>Almonds, with shell</td>\n",
       "      <td>Area harvested</td>\n",
       "      <td>1975</td>\n",
       "      <td>ha</td>\n",
       "      <td>0.0</td>\n",
       "    </tr>\n",
       "    <tr>\n",
       "      <th>1</th>\n",
       "      <td>Afghanistan</td>\n",
       "      <td>Almonds, with shell</td>\n",
       "      <td>Area harvested</td>\n",
       "      <td>1976</td>\n",
       "      <td>ha</td>\n",
       "      <td>5900.0</td>\n",
       "    </tr>\n",
       "    <tr>\n",
       "      <th>2</th>\n",
       "      <td>Afghanistan</td>\n",
       "      <td>Almonds, with shell</td>\n",
       "      <td>Area harvested</td>\n",
       "      <td>1977</td>\n",
       "      <td>ha</td>\n",
       "      <td>6000.0</td>\n",
       "    </tr>\n",
       "    <tr>\n",
       "      <th>3</th>\n",
       "      <td>Afghanistan</td>\n",
       "      <td>Almonds, with shell</td>\n",
       "      <td>Area harvested</td>\n",
       "      <td>1978</td>\n",
       "      <td>ha</td>\n",
       "      <td>6000.0</td>\n",
       "    </tr>\n",
       "    <tr>\n",
       "      <th>4</th>\n",
       "      <td>Afghanistan</td>\n",
       "      <td>Almonds, with shell</td>\n",
       "      <td>Area harvested</td>\n",
       "      <td>1979</td>\n",
       "      <td>ha</td>\n",
       "      <td>6000.0</td>\n",
       "    </tr>\n",
       "  </tbody>\n",
       "</table>\n",
       "</div>"
      ],
      "text/plain": [
       "          Area                 Item         Element  Year Unit   Value\n",
       "0  Afghanistan  Almonds, with shell  Area harvested  1975   ha     0.0\n",
       "1  Afghanistan  Almonds, with shell  Area harvested  1976   ha  5900.0\n",
       "2  Afghanistan  Almonds, with shell  Area harvested  1977   ha  6000.0\n",
       "3  Afghanistan  Almonds, with shell  Area harvested  1978   ha  6000.0\n",
       "4  Afghanistan  Almonds, with shell  Area harvested  1979   ha  6000.0"
      ]
     },
     "execution_count": 2,
     "metadata": {},
     "output_type": "execute_result"
    }
   ],
   "source": [
    "df=pd.read_csv('d:\\\\crop1.csv',encoding='latin-1')\n",
    "df.head()\n",
    "\n"
   ]
  },
  {
   "cell_type": "code",
   "execution_count": 4,
   "metadata": {},
   "outputs": [
    {
     "data": {
      "text/html": [
       "<div>\n",
       "<style scoped>\n",
       "    .dataframe tbody tr th:only-of-type {\n",
       "        vertical-align: middle;\n",
       "    }\n",
       "\n",
       "    .dataframe tbody tr th {\n",
       "        vertical-align: top;\n",
       "    }\n",
       "\n",
       "    .dataframe thead th {\n",
       "        text-align: right;\n",
       "    }\n",
       "</style>\n",
       "<table border=\"1\" class=\"dataframe\">\n",
       "  <thead>\n",
       "    <tr style=\"text-align: right;\">\n",
       "      <th></th>\n",
       "      <th>Year</th>\n",
       "      <th>Value</th>\n",
       "    </tr>\n",
       "  </thead>\n",
       "  <tbody>\n",
       "    <tr>\n",
       "      <th>count</th>\n",
       "      <td>1.895975e+06</td>\n",
       "      <td>1.766475e+06</td>\n",
       "    </tr>\n",
       "    <tr>\n",
       "      <th>mean</th>\n",
       "      <td>1.992321e+03</td>\n",
       "      <td>1.077275e+06</td>\n",
       "    </tr>\n",
       "    <tr>\n",
       "      <th>std</th>\n",
       "      <td>1.718118e+01</td>\n",
       "      <td>1.403138e+07</td>\n",
       "    </tr>\n",
       "    <tr>\n",
       "      <th>min</th>\n",
       "      <td>1.961000e+03</td>\n",
       "      <td>0.000000e+00</td>\n",
       "    </tr>\n",
       "    <tr>\n",
       "      <th>25%</th>\n",
       "      <td>1.978000e+03</td>\n",
       "      <td>4.500000e+03</td>\n",
       "    </tr>\n",
       "    <tr>\n",
       "      <th>50%</th>\n",
       "      <td>1.994000e+03</td>\n",
       "      <td>2.687500e+04</td>\n",
       "    </tr>\n",
       "    <tr>\n",
       "      <th>75%</th>\n",
       "      <td>2.007000e+03</td>\n",
       "      <td>1.303910e+05</td>\n",
       "    </tr>\n",
       "    <tr>\n",
       "      <th>max</th>\n",
       "      <td>2.020000e+03</td>\n",
       "      <td>1.955308e+09</td>\n",
       "    </tr>\n",
       "  </tbody>\n",
       "</table>\n",
       "</div>"
      ],
      "text/plain": [
       "               Year         Value\n",
       "count  1.895975e+06  1.766475e+06\n",
       "mean   1.992321e+03  1.077275e+06\n",
       "std    1.718118e+01  1.403138e+07\n",
       "min    1.961000e+03  0.000000e+00\n",
       "25%    1.978000e+03  4.500000e+03\n",
       "50%    1.994000e+03  2.687500e+04\n",
       "75%    2.007000e+03  1.303910e+05\n",
       "max    2.020000e+03  1.955308e+09"
      ]
     },
     "execution_count": 4,
     "metadata": {},
     "output_type": "execute_result"
    }
   ],
   "source": [
    "df.describe()"
   ]
  },
  {
   "cell_type": "code",
   "execution_count": 5,
   "metadata": {},
   "outputs": [
    {
     "name": "stdout",
     "output_type": "stream",
     "text": [
      "<class 'pandas.core.frame.DataFrame'>\n",
      "RangeIndex: 1895975 entries, 0 to 1895974\n",
      "Data columns (total 6 columns):\n",
      " #   Column   Dtype  \n",
      "---  ------   -----  \n",
      " 0   Area     object \n",
      " 1   Item     object \n",
      " 2   Element  object \n",
      " 3   Year     int64  \n",
      " 4   Unit     object \n",
      " 5   Value    float64\n",
      "dtypes: float64(1), int64(1), object(4)\n",
      "memory usage: 86.8+ MB\n"
     ]
    }
   ],
   "source": [
    "df.info()"
   ]
  },
  {
   "cell_type": "code",
   "execution_count": 13,
   "metadata": {
    "scrolled": true
   },
   "outputs": [
    {
     "data": {
      "text/plain": [
       "<AxesSubplot:xlabel='Item', ylabel='Year'>"
      ]
     },
     "execution_count": 13,
     "metadata": {},
     "output_type": "execute_result"
    },
    {
     "data": {
      "image/png": "[encoded data removed]",
      "text/plain": [
       "<Figure size 864x432 with 1 Axes>"
      ]
     },
     "metadata": {
      "needs_background": "light"
     },
     "output_type": "display_data"
    }
   ],
   "source": [
    "import matplotlib\n",
    "matplotlib.rcParams['figure.figsize'] = (12,6)\n",
    "sns.barplot(x=\"Item\",y=\"Year\",data=df)"
   ]
  },
  {
   "cell_type": "code",
   "execution_count": 14,
   "metadata": {},
   "outputs": [
    {
     "data": {
      "text/html": [
       "<div>\n",
       "<style scoped>\n",
       "    .dataframe tbody tr th:only-of-type {\n",
       "        vertical-align: middle;\n",
       "    }\n",
       "\n",
       "    .dataframe tbody tr th {\n",
       "        vertical-align: top;\n",
       "    }\n",
       "\n",
       "    .dataframe thead th {\n",
       "        text-align: right;\n",
       "    }\n",
       "</style>\n",
       "<table border=\"1\" class=\"dataframe\">\n",
       "  <thead>\n",
       "    <tr style=\"text-align: right;\">\n",
       "      <th></th>\n",
       "      <th>Year</th>\n",
       "      <th>Value</th>\n",
       "    </tr>\n",
       "  </thead>\n",
       "  <tbody>\n",
       "    <tr>\n",
       "      <th>Year</th>\n",
       "      <td>1.000000</td>\n",
       "      <td>0.014543</td>\n",
       "    </tr>\n",
       "    <tr>\n",
       "      <th>Value</th>\n",
       "      <td>0.014543</td>\n",
       "      <td>1.000000</td>\n",
       "    </tr>\n",
       "  </tbody>\n",
       "</table>\n",
       "</div>"
      ],
      "text/plain": [
       "           Year     Value\n",
       "Year   1.000000  0.014543\n",
       "Value  0.014543  1.000000"
      ]
     },
     "execution_count": 14,
     "metadata": {},
     "output_type": "execute_result"
    }
   ],
   "source": [
    "df.corr()"
   ]
  },
  {
   "cell_type": "code",
   "execution_count": 15,
   "metadata": {},
   "outputs": [
    {
     "data": {
      "text/plain": [
       "<AxesSubplot:>"
      ]
     },
     "execution_count": 15,
     "metadata": {},
     "output_type": "execute_result"
    },
    {
     "data": {
      "image/png": "[encoded data removed]",
      "text/plain": [
       "<Figure size 864x432 with 2 Axes>"
      ]
     },
     "metadata": {
      "needs_background": "light"
     },
     "output_type": "display_data"
    }
   ],
   "source": [
    "sns.heatmap(df.corr())"
   ]
  },
  {
   "cell_type": "code",
   "execution_count": 19,
   "metadata": {},
   "outputs": [],
   "source": [
    "Item_name=df.Item.value_counts().index\n",
    "Year_val=df.Year.value_counts().values"
   ]
  },
  {
   "cell_type": "code",
   "execution_count": 21,
   "metadata": {
    "scrolled": true
   },
   "outputs": [
    {
     "data": {
      "text/plain": [
       "([<matplotlib.patches.Wedge at 0x1d930d6aca0>,\n",
       "  <matplotlib.patches.Wedge at 0x1d930d7a3d0>,\n",
       "  <matplotlib.patches.Wedge at 0x1d930d7a9d0>],\n",
       " [Text(0.5366537589440923, 0.9602097390732798, 'Vegetables, fresh nes'),\n",
       "  Text(-1.0997512253193502, -0.023393212874425848, 'Maize'),\n",
       "  Text(0.5569527452738535, -0.9485798013514298, 'Tomatoes')],\n",
       " [Text(0.29272023215132303, 0.5237507667672435, '33.78%'),\n",
       "  Text(-0.5998643047196455, -0.01275993429514137, '33.12%'),\n",
       "  Text(0.303792406513011, -0.5174071643735071, '33.10%')])"
      ]
     },
     "execution_count": 21,
     "metadata": {},
     "output_type": "execute_result"
    },
    {
     "data": {
      "image/png": "[encoded data removed]",
      "text/plain": [
       "<Figure size 864x432 with 1 Axes>"
      ]
     },
     "metadata": {},
     "output_type": "display_data"
    }
   ],
   "source": [
    "plt.pie(Year_val[:3],labels=Item_name[:3],autopct='%1.2f%%')"
   ]
  },
  {
   "cell_type": "code",
   "execution_count": 22,
   "metadata": {
    "scrolled": true
   },
   "outputs": [
    {
     "data": {
      "text/html": [
       "<div>\n",
       "<style scoped>\n",
       "    .dataframe tbody tr th:only-of-type {\n",
       "        vertical-align: middle;\n",
       "    }\n",
       "\n",
       "    .dataframe tbody tr th {\n",
       "        vertical-align: top;\n",
       "    }\n",
       "\n",
       "    .dataframe thead th {\n",
       "        text-align: right;\n",
       "    }\n",
       "</style>\n",
       "<table border=\"1\" class=\"dataframe\">\n",
       "  <thead>\n",
       "    <tr style=\"text-align: right;\">\n",
       "      <th></th>\n",
       "      <th>Area</th>\n",
       "      <th>Item</th>\n",
       "      <th>Element</th>\n",
       "      <th>Year</th>\n",
       "      <th>Unit</th>\n",
       "      <th>Value</th>\n",
       "    </tr>\n",
       "  </thead>\n",
       "  <tbody>\n",
       "    <tr>\n",
       "      <th>0</th>\n",
       "      <td>Afghanistan</td>\n",
       "      <td>Almonds, with shell</td>\n",
       "      <td>Area harvested</td>\n",
       "      <td>1975</td>\n",
       "      <td>ha</td>\n",
       "      <td>0.0</td>\n",
       "    </tr>\n",
       "    <tr>\n",
       "      <th>1</th>\n",
       "      <td>Afghanistan</td>\n",
       "      <td>Almonds, with shell</td>\n",
       "      <td>Area harvested</td>\n",
       "      <td>1976</td>\n",
       "      <td>ha</td>\n",
       "      <td>5900.0</td>\n",
       "    </tr>\n",
       "    <tr>\n",
       "      <th>2</th>\n",
       "      <td>Afghanistan</td>\n",
       "      <td>Almonds, with shell</td>\n",
       "      <td>Area harvested</td>\n",
       "      <td>1977</td>\n",
       "      <td>ha</td>\n",
       "      <td>6000.0</td>\n",
       "    </tr>\n",
       "    <tr>\n",
       "      <th>3</th>\n",
       "      <td>Afghanistan</td>\n",
       "      <td>Almonds, with shell</td>\n",
       "      <td>Area harvested</td>\n",
       "      <td>1978</td>\n",
       "      <td>ha</td>\n",
       "      <td>6000.0</td>\n",
       "    </tr>\n",
       "    <tr>\n",
       "      <th>4</th>\n",
       "      <td>Afghanistan</td>\n",
       "      <td>Almonds, with shell</td>\n",
       "      <td>Area harvested</td>\n",
       "      <td>1979</td>\n",
       "      <td>ha</td>\n",
       "      <td>6000.0</td>\n",
       "    </tr>\n",
       "    <tr>\n",
       "      <th>...</th>\n",
       "      <td>...</td>\n",
       "      <td>...</td>\n",
       "      <td>...</td>\n",
       "      <td>...</td>\n",
       "      <td>...</td>\n",
       "      <td>...</td>\n",
       "    </tr>\n",
       "    <tr>\n",
       "      <th>1895970</th>\n",
       "      <td>Net Food Importing Developing Countries</td>\n",
       "      <td>Wheat</td>\n",
       "      <td>Production</td>\n",
       "      <td>2016</td>\n",
       "      <td>tonnes</td>\n",
       "      <td>52845182.0</td>\n",
       "    </tr>\n",
       "    <tr>\n",
       "      <th>1895971</th>\n",
       "      <td>Net Food Importing Developing Countries</td>\n",
       "      <td>Wheat</td>\n",
       "      <td>Production</td>\n",
       "      <td>2017</td>\n",
       "      <td>tonnes</td>\n",
       "      <td>57099662.0</td>\n",
       "    </tr>\n",
       "    <tr>\n",
       "      <th>1895972</th>\n",
       "      <td>Net Food Importing Developing Countries</td>\n",
       "      <td>Wheat</td>\n",
       "      <td>Production</td>\n",
       "      <td>2018</td>\n",
       "      <td>tonnes</td>\n",
       "      <td>55571780.0</td>\n",
       "    </tr>\n",
       "    <tr>\n",
       "      <th>1895973</th>\n",
       "      <td>Net Food Importing Developing Countries</td>\n",
       "      <td>Wheat</td>\n",
       "      <td>Production</td>\n",
       "      <td>2019</td>\n",
       "      <td>tonnes</td>\n",
       "      <td>53903035.0</td>\n",
       "    </tr>\n",
       "    <tr>\n",
       "      <th>1895974</th>\n",
       "      <td>Net Food Importing Developing Countries</td>\n",
       "      <td>Wheat</td>\n",
       "      <td>Production</td>\n",
       "      <td>2020</td>\n",
       "      <td>tonnes</td>\n",
       "      <td>54159916.0</td>\n",
       "    </tr>\n",
       "  </tbody>\n",
       "</table>\n",
       "<p>1895975 rows × 6 columns</p>\n",
       "</div>"
      ],
      "text/plain": [
       "                                            Area                 Item  \\\n",
       "0                                    Afghanistan  Almonds, with shell   \n",
       "1                                    Afghanistan  Almonds, with shell   \n",
       "2                                    Afghanistan  Almonds, with shell   \n",
       "3                                    Afghanistan  Almonds, with shell   \n",
       "4                                    Afghanistan  Almonds, with shell   \n",
       "...                                          ...                  ...   \n",
       "1895970  Net Food Importing Developing Countries                Wheat   \n",
       "1895971  Net Food Importing Developing Countries                Wheat   \n",
       "1895972  Net Food Importing Developing Countries                Wheat   \n",
       "1895973  Net Food Importing Developing Countries                Wheat   \n",
       "1895974  Net Food Importing Developing Countries                Wheat   \n",
       "\n",
       "                Element  Year    Unit       Value  \n",
       "0        Area harvested  1975      ha         0.0  \n",
       "1        Area harvested  1976      ha      5900.0  \n",
       "2        Area harvested  1977      ha      6000.0  \n",
       "3        Area harvested  1978      ha      6000.0  \n",
       "4        Area harvested  1979      ha      6000.0  \n",
       "...                 ...   ...     ...         ...  \n",
       "1895970      Production  2016  tonnes  52845182.0  \n",
       "1895971      Production  2017  tonnes  57099662.0  \n",
       "1895972      Production  2018  tonnes  55571780.0  \n",
       "1895973      Production  2019  tonnes  53903035.0  \n",
       "1895974      Production  2020  tonnes  54159916.0  \n",
       "\n",
       "[1895975 rows x 6 columns]"
      ]
     },
     "execution_count": 22,
     "metadata": {},
     "output_type": "execute_result"
    }
   ],
   "source": [
    "df"
   ]
  },
  {
   "cell_type": "code",
   "execution_count": 23,
   "metadata": {},
   "outputs": [
    {
     "data": {
      "text/plain": [
       "Index(['Area', 'Item', 'Element', 'Year', 'Unit', 'Value'], dtype='object')"
      ]
     },
     "execution_count": 23,
     "metadata": {},
     "output_type": "execute_result"
    }
   ],
   "source": [
    "df.columns"
   ]
  },
  {
   "cell_type": "code",
   "execution_count": null,
   "metadata": {},
   "outputs": [],
   "source": []
  }
 ],
 "metadata": {
  "kernelspec": {
   "display_name": "Python 3",
   "language": "python",
   "name": "python3"
  },
  "language_info": {
   "codemirror_mode": {
    "name": "ipython",
    "version": 3
   },
   "file_extension": ".py",
   "mimetype": "text/x-python",
   "name": "python",
   "nbconvert_exporter": "python",
   "pygments_lexer": "ipython3",
   "version": "3.8.5"
  }
 },
 "nbformat": 4,
 "nbformat_minor": 4
}
